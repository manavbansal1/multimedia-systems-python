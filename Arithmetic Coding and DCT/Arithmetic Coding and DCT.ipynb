{
  "cells": [
    {
      "cell_type": "code",
      "execution_count": 5,
      "metadata": {
        "id": "mJP30PmZTtj1"
      },
      "outputs": [],
      "source": [
        "import os\n",
        "import math\n",
        "import numpy as np\n",
        "import ast\n",
        "# Please put your input file in the same folder as this Jupyter notebook file.\n",
        "# Please do not change any other code\n",
        "# You only need to complete the functions with TODO\n",
        "# You can simply run the Q1_test() and Q2_test() to test your function"
      ]
    },
    {
      "cell_type": "markdown",
      "metadata": {
        "id": "mMcaNPVjt4Ka"
      },
      "source": [
        "**Q1 Arithmetic Coding**"
      ]
    },
    {
      "cell_type": "code",
      "execution_count": 6,
      "metadata": {
        "id": "MaX_PbZsT1Nd"
      },
      "outputs": [],
      "source": [
        "def Q1_input(file_path):\n",
        "    string = []\n",
        "    with open(file_path, 'r') as file:\n",
        "        for line in file:\n",
        "            string.append(line)\n",
        "    return string\n",
        "\n",
        "\n",
        "def Q1_test():\n",
        "\n",
        "    file_path = \"q1_input.txt\"\n",
        "\n",
        "    input_list = Q1_input(file_path)\n",
        "    for input_string in input_list:\n",
        "        print(\"input string: \",input_string)\n",
        "        [lower_bound, upper_bound, _] = Q1(input_string, False)\n",
        "        print(\"The lower and higher bounds without E1/E2:\", lower_bound, upper_bound)\n",
        "        print()\n",
        "\n",
        "    for input_string in input_list:\n",
        "        print(\"input string: \",input_string)\n",
        "        [lower_bound, upper_bound, operation_list] = Q1(input_string, True)\n",
        "        print(\"The lower and higher bounds with E1/E2:\", lower_bound, upper_bound)\n",
        "        print(\"Operation list:\", operation_list)\n",
        "        print()"
      ]
    },
    {
      "cell_type": "code",
      "execution_count": 21,
      "metadata": {
        "id": "vcRE5X9_ZSWi"
      },
      "outputs": [],
      "source": [
        "def Q1(input_string, enable_scaling = False):\n",
        "    lower_bound = 0\n",
        "    upper_bound = 1\n",
        "    operation_list = []\n",
        "    # TODO:\n",
        "    # Return the lower and higher bounds of the final interval in arithmetic coding with and without E1/E2 scaling\n",
        "    count_a = input_string.count('A')\n",
        "    count_b = input_string.count('B')\n",
        "    total_count = count_a + count_b\n",
        "    \n",
        "    # list for CDF\n",
        "    cdf = []\n",
        "    cdf.append(count_a/total_count)\n",
        "    cdf.append((count_b + count_a)/total_count)\n",
        "\n",
        "    for symbol in input_string:\n",
        "        range_size = upper_bound - lower_bound\n",
        "        if symbol == 'A':\n",
        "            upper_bound = lower_bound + range_size * cdf[0]\n",
        "\n",
        "        elif symbol == 'B':\n",
        "            upper_bound = lower_bound + range_size * cdf[1]\n",
        "            lower_bound = lower_bound + range_size * cdf[0]\n",
        "\n",
        "        \n",
        "        # operation_list example: [ 'E1', 'E2']. If there is no scaling, no need to append anything to operation_list\n",
        "        # Handle E1/E2 scaling\n",
        "        while enable_scaling:\n",
        "            if upper_bound <= 0.5: # Ask David about this < 0.5 or <= 0.5\n",
        "                # E1 scaling: Shift left\n",
        "                lower_bound *= 2\n",
        "                upper_bound *= 2\n",
        "                operation_list.append('E1')\n",
        "            elif lower_bound >= 0.5:\n",
        "                # E2 scaling: Shift left after subtracting 0.5\n",
        "                lower_bound = 2 * (lower_bound - 0.5)\n",
        "                upper_bound = 2 * (upper_bound - 0.5)\n",
        "                operation_list.append('E2')\n",
        "            else:\n",
        "                break\n",
        "\n",
        "    return [lower_bound, upper_bound, operation_list]"
      ]
    },
    {
      "cell_type": "code",
      "execution_count": 18,
      "metadata": {
        "id": "91OpEhuL9SRW"
      },
      "outputs": [],
      "source": [
        "# Discuss the challenges you have encountered for the implementation.\n",
        "# The main challenge was to understand the concept of Arithmetic coding and how to implement it in python as I often \n",
        "# forget the syntax given that this semster I am using 3 different languages in 3 different courses.\n",
        "# The second challenge was to understand the E1 and E2 scaling and how to implement it.\n",
        "# The third main challange was to figure out if the upper_bound <= 0.5 or upper_bound < 0.5 in the E1/E2 scaling."
      ]
    },
    {
      "cell_type": "code",
      "execution_count": 22,
      "metadata": {
        "id": "rsDCT2lRo0gl"
      },
      "outputs": [
        {
          "name": "stdout",
          "output_type": "stream",
          "text": [
            "input string:  ABABAAA\n",
            "The lower and higher bounds without E1/E2: 0.6143273635985007 0.6295056845847758\n",
            "\n",
            "input string:  ABABAAA\n",
            "The lower and higher bounds with E1/E2: 0.45730945439400256 0.5180227383391032\n",
            "Operation list: ['E2', 'E1']\n",
            "\n"
          ]
        }
      ],
      "source": [
        "Q1_test()"
      ]
    },
    {
      "cell_type": "code",
      "execution_count": null,
      "metadata": {},
      "outputs": [],
      "source": []
    },
    {
      "cell_type": "markdown",
      "metadata": {
        "id": "EF6QI8oEtxY6"
      },
      "source": [
        "**Q2 Discrete Cosine Transform**"
      ]
    },
    {
      "cell_type": "markdown",
      "metadata": {
        "id": "J37abSbbuk6M"
      },
      "source": [
        "part 1"
      ]
    },
    {
      "cell_type": "code",
      "execution_count": 25,
      "metadata": {
        "id": "6u0goiXSo6PU"
      },
      "outputs": [],
      "source": [
        "def Q2_1_input(file_path):\n",
        "    numbers = []\n",
        "    with open(file_path, 'r') as file:\n",
        "        for line in file:\n",
        "            numbers.append(int(line.strip()))\n",
        "    return numbers"
      ]
    },
    {
      "cell_type": "code",
      "execution_count": 26,
      "metadata": {
        "id": "5axmVFGWsAWo"
      },
      "outputs": [],
      "source": [
        "def Q2_1_test():\n",
        "\n",
        "    file_path = \"q2_1_input.txt\"\n",
        "\n",
        "    input_list = Q2_1_input(file_path)\n",
        "    for input_string in input_list:\n",
        "        DC_mat = Q2_1(input_string)\n",
        "        print(\"DCT of size \",input_string,\": \",DC_mat)\n",
        "        print()"
      ]
    },
    {
      "cell_type": "code",
      "execution_count": 27,
      "metadata": {
        "id": "OzWgpZF_u-PT"
      },
      "outputs": [],
      "source": [
        "def a(i, N):\n",
        "    if i == 0:\n",
        "        return math.sqrt(1/N)\n",
        "    else:\n",
        "        return math.sqrt(2/N)\n",
        "\n",
        "def Q2_1(n):\n",
        "    DC_mat = []\n",
        "    for i in range(n):\n",
        "        row = []\n",
        "        for j in range(n):\n",
        "            row.append(a(i, n) * math.cos( ((2*j+1)*i*math.pi)/(2*n) ))\n",
        "        DC_mat.append(row)\n",
        "\n",
        "    return DC_mat"
      ]
    },
    {
      "cell_type": "code",
      "execution_count": 33,
      "metadata": {
        "id": "NfPi-yvdyBHB"
      },
      "outputs": [
        {
          "name": "stdout",
          "output_type": "stream",
          "text": [
            "DCT of size  4 :  [[0.5, 0.5, 0.5, 0.5], [0.6532814824381883, 0.27059805007309856, -0.2705980500730985, -0.6532814824381883], [0.5000000000000001, -0.5, -0.5000000000000001, 0.4999999999999999], [0.27059805007309856, -0.6532814824381884, 0.6532814824381882, -0.2705980500730986]]\n",
            "\n"
          ]
        }
      ],
      "source": [
        "Q2_1_test()"
      ]
    },
    {
      "cell_type": "markdown",
      "metadata": {
        "id": "ND2Eby-DunUL"
      },
      "source": [
        "part 2"
      ]
    },
    {
      "cell_type": "code",
      "execution_count": 29,
      "metadata": {
        "id": "GZQNHwUnuEWa"
      },
      "outputs": [],
      "source": [
        "def Q2_2_input(file_path):\n",
        "    list_of_lists = []\n",
        "    with open(file_path, 'r') as file:\n",
        "        for line in file:\n",
        "            numbers = line.strip()[1:-1].split(',')\n",
        "            list_of_lists.append([int(number) for number in numbers])\n",
        "    return list_of_lists"
      ]
    },
    {
      "cell_type": "code",
      "execution_count": 30,
      "metadata": {
        "id": "yOH8v1Mfv3TF"
      },
      "outputs": [],
      "source": [
        "def Q2_2_test():\n",
        "\n",
        "    file_path = \"q2_2_input.txt\"\n",
        "\n",
        "    input_list = Q2_2_input(file_path)\n",
        "\n",
        "    for input_string in input_list:\n",
        "        print(\"input string: \",input_string)\n",
        "        DC_results = Q2_2(input_string)\n",
        "        print(\"DCT transformation results: \",DC_results)\n",
        "        print()"
      ]
    },
    {
      "cell_type": "code",
      "execution_count": 31,
      "metadata": {
        "id": "B8uIof8Uv4tl"
      },
      "outputs": [],
      "source": [
        "def Q2_2(input_vector):\n",
        "    # TODO:\n",
        "    # Return the DCT transform result for the input vector\n",
        "    N = len(input_vector)\n",
        "    coeff = []\n",
        "    \n",
        "    for k in range(N):\n",
        "        sum_val = 0\n",
        "        for n in range(N):\n",
        "            sum_val += input_vector[n] * math.cos((math.pi * (2 * n + 1) * k) / (2 * N))\n",
        "        \n",
        "        if k == 0:\n",
        "            sum_val *= math.sqrt(1 / N)\n",
        "        else:\n",
        "            sum_val *= math.sqrt(2 / N)\n",
        "        \n",
        "        coeff.append(sum_val)\n",
        "    \n",
        "    return coeff\n",
        "\n"
      ]
    },
    {
      "cell_type": "code",
      "execution_count": 32,
      "metadata": {
        "id": "JnLBIs46yDD1"
      },
      "outputs": [
        {
          "name": "stdout",
          "output_type": "stream",
          "text": [
            "input string:  [0, 1, 2, 3, 4]\n",
            "DCT transformation results:  [4.47213595499958, -3.149499888950551, -5.617333549722722e-16, -0.28399022782564615, -5.617333549722722e-16]\n",
            "\n"
          ]
        }
      ],
      "source": [
        "Q2_2_test()"
      ]
    },
    {
      "cell_type": "markdown",
      "metadata": {
        "id": "V9Cm6k80xesX"
      },
      "source": [
        "part 3"
      ]
    },
    {
      "cell_type": "code",
      "execution_count": 14,
      "metadata": {
        "id": "lk_Tw0koxfuP"
      },
      "outputs": [],
      "source": [
        "def Q2_3_test():\n",
        "\n",
        "    # TODO:\n",
        "    # Design an input vector that has high energy in higher frequency components and has low energy\n",
        "    # in low frequency components. Give an example of this kind of input vector from the real world.\n",
        "\n",
        "    # Real-world example: #Fill in your answer here#\n",
        "    '''\n",
        "    Real-world example: Edge detection in images. Edges and sharp transitions in images contain\n",
        "    primarily high-frequency components with very little low-frequency information. Other examples\n",
        "    include high-pitched sounds like glass breaking, cymbals crashing, or the static noise in radio\n",
        "    signals when there's interference.\n",
        "    '''\n",
        "    # Creating a zigzag pattern that alternates rapidly (high frequency energy)\n",
        "    N = 16  # Length of our vector\n",
        "    input_vector = []\n",
        "    \n",
        "    for i in range(N):\n",
        "        # Creating alternating values with a high-frequency pattern\n",
        "        # Using (-1)^i creates the sharpest transitions (most high-frequency energy)\n",
        "        input_vector.append((-1)**i)\n",
        "    \n",
        "    DC_results = Q2_2(input_vector)\n",
        "    print(\"DCT transformation results: \",DC_results)"
      ]
    },
    {
      "cell_type": "code",
      "execution_count": 15,
      "metadata": {
        "id": "-Y-II7ruy1Pj"
      },
      "outputs": [
        {
          "name": "stdout",
          "output_type": "stream",
          "text": [
            "DCT transformation results:  [0.0, 0.3552640842625494, 3.5327080320384943e-16, 0.3694623137844329, 2.7476618026966064e-16, 0.4008899715719083, 7.850462293418876e-17, 0.45737206923302387, 7.850462293418876e-17, 0.5573094788659082, -1.5308401472166808e-15, 0.7500123844170301, 1.5112139914831337e-15, 1.2179540233994186, 8.046723850754348e-16, 3.6070567801154914]\n"
          ]
        }
      ],
      "source": [
        "Q2_3_test()"
      ]
    }
  ],
  "metadata": {
    "colab": {
      "provenance": []
    },
    "kernelspec": {
      "display_name": "Python 3",
      "name": "python3"
    },
    "language_info": {
      "codemirror_mode": {
        "name": "ipython",
        "version": 3
      },
      "file_extension": ".py",
      "mimetype": "text/x-python",
      "name": "python",
      "nbconvert_exporter": "python",
      "pygments_lexer": "ipython3",
      "version": "3.12.5"
    }
  },
  "nbformat": 4,
  "nbformat_minor": 0
}
